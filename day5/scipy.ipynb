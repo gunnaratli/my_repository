{
 "cells": [
  {
   "cell_type": "code",
   "execution_count": 1,
   "id": "c8ba5254-d52b-4203-9c43-e3a75b9b6cec",
   "metadata": {},
   "outputs": [],
   "source": [
    "import numpy as np\n",
    "import scipy\n",
    "import matplotlib"
   ]
  },
  {
   "cell_type": "code",
   "execution_count": 4,
   "id": "08b33fc7-c41b-464b-8f6e-76c4fbeddff2",
   "metadata": {},
   "outputs": [],
   "source": [
    "%matplotlib inline\n",
    "import matplotlib.pyplot as plt"
   ]
  },
  {
   "cell_type": "markdown",
   "id": "0c5f8431-2044-48ff-8a81-f2cd05c55f09",
   "metadata": {},
   "source": [
    "## Linear algebra"
   ]
  },
  {
   "cell_type": "code",
   "execution_count": 38,
   "id": "df9bb449-531c-461d-92bc-339d79c9d1fa",
   "metadata": {},
   "outputs": [
    {
     "name": "stdout",
     "output_type": "stream",
     "text": [
      "a)\n",
      " [[ 1 -2  3]\n",
      " [ 4  5  6]\n",
      " [ 7  1  9]]\n",
      "\n",
      "b)\n",
      " [1 2 3]\n",
      "\n",
      "c)\n",
      " x = [ 1.79068230e-18 -1.25347761e-17  3.33333333e-01]\n",
      "\n",
      "d)\n",
      " Ax = [1. 2. 3.] = b\n"
     ]
    }
   ],
   "source": [
    "# a) Define a matrix A\n",
    "A = np.array([[1,-2,3],[4,5,6],[7,1,9]])\n",
    "print(\"a)\\n\", A)\n",
    "\n",
    "# b) Define a vector b\n",
    "b = np.array([1,2,3])\n",
    "print(\"\\nb)\\n\", b)\n",
    "\n",
    "# c) Solve the linear system of equations Ax = b\n",
    "x = scipy.linalg.solve(A, b)\n",
    "print(\"\\nc)\\n\", \"x =\", x)\n",
    "\n",
    "# d) Check that your solution is correct by plugging it into the equation\n",
    "d = A.dot(x)\n",
    "print(\"\\nd)\\n\", \"Ax =\", d, \"= b\")"
   ]
  },
  {
   "cell_type": "code",
   "execution_count": 43,
   "id": "a3fa5373-6956-4f4b-83db-a229f83c1b69",
   "metadata": {},
   "outputs": [
    {
     "name": "stdout",
     "output_type": "stream",
     "text": [
      "a)\n",
      " [[ 1 -2  3]\n",
      " [ 4  5  6]\n",
      " [ 7  1  9]]\n",
      "\n",
      "b)\n",
      " [[0.20489271 0.35130848 0.80626218]\n",
      " [0.33496132 0.96801846 0.33776598]\n",
      " [0.2152579  0.91291355 0.26614544]]\n",
      "\n",
      "c)\n",
      " [[-0.13959152 -0.14213262 -0.47502096]\n",
      " [ 0.02270655  0.06107408 -0.03607961]\n",
      " [ 0.12996578  0.20519642  0.40304131]]\n",
      "\n",
      "d)\n",
      " [[0.20489271 0.35130848 0.80626218]\n",
      " [0.33496132 0.96801846 0.33776598]\n",
      " [0.2152579  0.91291355 0.26614544]]\n"
     ]
    }
   ],
   "source": [
    "# e) Repeat steps a-d using a random 3x3 matrix B (instead of the vector b)\n",
    "\n",
    "# a) Define a matrix A\n",
    "A = np.array([[1,-2,3],[4,5,6],[7,1,9]])\n",
    "print(\"a)\\n\", A)\n",
    "\n",
    "# b) Define a matrix b\n",
    "b = np.random.rand(3,3)\n",
    "print(\"\\nb)\\n\", b)\n",
    "\n",
    "# c) Solve the linear system of equations Ax = b\n",
    "x = scipy.linalg.solve(A, b)\n",
    "print(\"\\nc)\\n\", x)\n",
    "\n",
    "# d) Check that your solution is correct by plugging it into the equation\n",
    "d = A.dot(x)\n",
    "print(\"\\nd)\\n\", d)"
   ]
  },
  {
   "cell_type": "code",
   "execution_count": 63,
   "id": "c5308c01-1040-4b63-81b0-e8ca7da5a1aa",
   "metadata": {},
   "outputs": [
    {
     "name": "stdout",
     "output_type": "stream",
     "text": [
      "Eigenvalues of A:\n",
      " [-1.13261772+0.j 10.67269524+0.j  5.45992248+0.j]\n",
      "\n",
      "Eigenvectors of A:\n",
      " [[-0.8215735   0.05324273  0.25636602]\n",
      " [-0.02150583  0.74309552 -0.93563185]\n",
      " [ 0.56969684  0.66706391 -0.24263037]]\n",
      "\n",
      "Inverse of A:\n",
      " [[-0.59090909 -0.31818182  0.40909091]\n",
      " [-0.09090909  0.18181818 -0.09090909]\n",
      " [ 0.46969697  0.22727273 -0.1969697 ]]\n",
      "\n",
      "Determinant of A:\n",
      " -66.0\n",
      "\n",
      "1-norm of A:\n",
      " 18.0\n",
      "\n",
      "2-norm of A:\n",
      " 14.173659390884978\n"
     ]
    }
   ],
   "source": [
    "# f) Solve the eigenvalue problem for the matrix A and print the eigenvalues and eigenvectors\n",
    "eigval, eigvec  = scipy.linalg.eig(A) \n",
    "print(\"Eigenvalues of A:\\n\", eigval)\n",
    "print(\"\\nEigenvectors of A:\\n\", eigvec)\n",
    "\n",
    "# g) Calculate the inverse, determinant of A\n",
    "invA = scipy.linalg.inv(A)\n",
    "print(\"\\nInverse of A:\\n\", invA)\n",
    "detA = scipy.linalg.det(A)\n",
    "print(\"\\nDeterminant of A:\\n\", detA)\n",
    "\n",
    "# h) Calculate the norm of A with different orders\n",
    "norm1A = scipy.linalg.norm(A, ord=1)\n",
    "print(\"\\n1-norm of A:\\n\", norm1A)\n",
    "norm2A = scipy.linalg.norm(A, ord=2)\n",
    "print(\"\\n2-norm of A:\\n\", norm2A)"
   ]
  },
  {
   "cell_type": "markdown",
   "id": "6eb54874-c605-4223-95fc-e5bf81feaaf6",
   "metadata": {},
   "source": [
    "## Stats"
   ]
  },
  {
   "cell_type": "markdown",
   "id": "b71f22fb-abe0-424a-a310-ecc4625df731",
   "metadata": {},
   "source": [
    "### Poisson distribution"
   ]
  },
  {
   "cell_type": "code",
   "execution_count": 114,
   "id": "99b11ba7-30e2-48f0-b308-9b1ebe23497c",
   "metadata": {},
   "outputs": [
    {
     "name": "stdout",
     "output_type": "stream",
     "text": [
      "<scipy.stats._distn_infrastructure.rv_discrete_frozen object at 0x7f9c8a7d3070>\n"
     ]
    }
   ],
   "source": [
    "import scipy.stats as stats\n",
    "mu = 2\n",
    "poisson_rv = stats.poisson(mu=mu)\n",
    "print(poisson_rv)"
   ]
  },
  {
   "cell_type": "markdown",
   "id": "bee72a8d-d506-4f81-9a69-da51fdbbe543",
   "metadata": {},
   "source": [
    "We've now generated a random, discrete Poisson variable with mean mu=2"
   ]
  },
  {
   "cell_type": "markdown",
   "id": "7ea73f8e-88b2-4432-bf96-27a3fed090d5",
   "metadata": {},
   "source": [
    "#### Compute the probability of observing k=3 events"
   ]
  },
  {
   "cell_type": "code",
   "execution_count": 121,
   "id": "4b3b485a-fd7f-40e6-b783-48c1032612a6",
   "metadata": {},
   "outputs": [
    {
     "name": "stdout",
     "output_type": "stream",
     "text": [
      "0.1353352832366127\n"
     ]
    }
   ],
   "source": [
    "k = 0\n",
    "prob = poisson_rv.pmf(k)\n",
    "print(prob)"
   ]
  },
  {
   "cell_type": "markdown",
   "id": "3765c5f8-35f4-4751-8795-f176ba5b0903",
   "metadata": {},
   "source": [
    "#### Probability mass function"
   ]
  },
  {
   "cell_type": "code",
   "execution_count": 132,
   "id": "6ba4c140-9d0c-4c6b-a9c7-69c0f453406c",
   "metadata": {},
   "outputs": [
    {
     "data": {
      "text/plain": [
       "(0.0, 0.3)"
      ]
     },
     "execution_count": 132,
     "metadata": {},
     "output_type": "execute_result"
    },
    {
     "data": {
      "image/png": "[encoded data removed]",
      "text/plain": [
       "<Figure size 640x480 with 1 Axes>"
      ]
     },
     "metadata": {},
     "output_type": "display_data"
    }
   ],
   "source": [
    "# Define the range of k-values to plot\n",
    "k_values = np.arange(0,7)\n",
    "\n",
    "# Compute the PMF values\n",
    "pmf_values = poisson_rv.pmf(k_values)\n",
    "\n",
    "fig, ax = plt.subplots()\n",
    "ax.scatter(k_values, pmf_values, color=\"b\")\n",
    "ax.set_xlabel(\"k\")\n",
    "ax.set_ylabel(\"P(X == k)\")\n",
    "ax.vlines(k_values, 0, pmf_values, colors='b', lw=5, alpha=0.5)\n",
    "ax.set_xticks(k_values)\n",
    "ax.set_ylim([0, 0.3])"
   ]
  },
  {
   "cell_type": "markdown",
   "id": "5319546b-5acc-4b87-905c-4069b37ddb82",
   "metadata": {},
   "source": [
    "#### Cumulative distribution function"
   ]
  },
  {
   "cell_type": "code",
   "execution_count": 144,
   "id": "25738a4b-09da-4e8c-a6a8-0c6aad467bd1",
   "metadata": {},
   "outputs": [
    {
     "data": {
      "image/png": "[encoded data removed]",
      "text/plain": [
       "<Figure size 640x480 with 1 Axes>"
      ]
     },
     "metadata": {},
     "output_type": "display_data"
    }
   ],
   "source": [
    "cdf = scipy.stats.poisson.cdf(k_values, mu)\n",
    "\n",
    "fig, ax = plt.subplots()\n",
    "ax.plot(k_values, cdf, \".--\", markersize=12)\n",
    "ax.set_xlabel(\"k\")\n",
    "ax.set_ylabel(\"P(X<=k)\")\n",
    "plt.show()"
   ]
  },
  {
   "cell_type": "markdown",
   "id": "589c5b7a-323d-419a-9e7a-f9dde6da4529",
   "metadata": {},
   "source": [
    "#### 1000 random realizations"
   ]
  },
  {
   "cell_type": "code",
   "execution_count": 168,
   "id": "aeada3fa-2b62-4d73-b4fb-d926038d7c5d",
   "metadata": {},
   "outputs": [
    {
     "data": {
      "text/plain": [
       "Text(0, 0.5, 'Count')"
      ]
     },
     "execution_count": 168,
     "metadata": {},
     "output_type": "execute_result"
    },
    {
     "data": {
      "image/png": "[encoded data removed]",
      "text/plain": [
       "<Figure size 640x480 with 1 Axes>"
      ]
     },
     "metadata": {},
     "output_type": "display_data"
    }
   ],
   "source": [
    "rvs = scipy.stats.poisson.rvs(mu,size=1000)\n",
    "fig, ax = plt.subplots()\n",
    "hist = np.histogram(rvs, bins=np.arange(0,10,1))\n",
    "\n",
    "ax.bar(x=hist[1][:-1], height=hist[0], width=0.8, color=\"b\")\n",
    "ax.set_xlabel(\"k\")\n",
    "ax.set_ylabel(\"Count\")"
   ]
  },
  {
   "cell_type": "markdown",
   "id": "4b4f3735-51f2-427c-970e-2a2275c75267",
   "metadata": {},
   "source": [
    "### Normal distribution"
   ]
  },
  {
   "cell_type": "code",
   "execution_count": 152,
   "id": "79fc407e-235e-4a23-82a8-445c129f80f7",
   "metadata": {},
   "outputs": [],
   "source": [
    "# Define the normal distribution with mean mu = 0 and standard deviation sigma = 1\n",
    "mu = 0\n",
    "sigma = 1\n",
    "normal_rv = stats.norm(loc=mu, scale=sigma)"
   ]
  },
  {
   "cell_type": "markdown",
   "id": "ba06b3c1-24d5-4fc2-9932-286d108fa9a7",
   "metadata": {},
   "source": [
    "#### Probability density function (PDF)"
   ]
  },
  {
   "cell_type": "code",
   "execution_count": 162,
   "id": "733b5713-8c19-4f99-a403-0a919a95b463",
   "metadata": {},
   "outputs": [
    {
     "data": {
      "text/plain": [
       "<matplotlib.collections.LineCollection at 0x7f9c88965670>"
      ]
     },
     "execution_count": 162,
     "metadata": {},
     "output_type": "execute_result"
    },
    {
     "data": {
      "image/png": "[encoded data removed]",
      "text/plain": [
       "<Figure size 640x480 with 1 Axes>"
      ]
     },
     "metadata": {},
     "output_type": "display_data"
    }
   ],
   "source": [
    "x_range = np.linspace(-3,3,50)\n",
    "pdf = normal_rv.pdf(x_range)\n",
    "\n",
    "fig, ax = plt.subplots()\n",
    "ax.scatter(x_range, pdf, color=\"b\")\n",
    "ax.vlines(x_range, 0, pdf, colors='b', lw=3, alpha=0.5)"
   ]
  },
  {
   "cell_type": "markdown",
   "id": "c31bac58-6049-42de-80bf-7a1a2bf3e99a",
   "metadata": {},
   "source": [
    "#### Cumulative distribution function (CDF)"
   ]
  },
  {
   "cell_type": "code",
   "execution_count": 163,
   "id": "e8800860-7ed5-4474-a2d0-8a1d6b6fe0c4",
   "metadata": {},
   "outputs": [
    {
     "data": {
      "text/plain": [
       "<matplotlib.collections.LineCollection at 0x7f9c888840a0>"
      ]
     },
     "execution_count": 163,
     "metadata": {},
     "output_type": "execute_result"
    },
    {
     "data": {
      "image/png": "[encoded data removed]",
      "text/plain": [
       "<Figure size 640x480 with 1 Axes>"
      ]
     },
     "metadata": {},
     "output_type": "display_data"
    }
   ],
   "source": [
    "cdf = normal_rv.cdf(x_range)\n",
    "\n",
    "fig, ax = plt.subplots()\n",
    "ax.scatter(x_range, cdf, color=\"b\")\n",
    "ax.vlines(x_range, 0, cdf, colors='b', lw=3, alpha=0.5)"
   ]
  },
  {
   "cell_type": "markdown",
   "id": "4ecac27e-2286-443a-98ca-930f22f3b65f",
   "metadata": {},
   "source": [
    "#### Histogram of 1000 random variables"
   ]
  },
  {
   "cell_type": "code",
   "execution_count": 167,
   "id": "e47d0304-fe4c-4890-aca1-28acc776a9c8",
   "metadata": {},
   "outputs": [
    {
     "data": {
      "text/plain": [
       "Text(0, 0.5, 'Count')"
      ]
     },
     "execution_count": 167,
     "metadata": {},
     "output_type": "execute_result"
    },
    {
     "data": {
      "image/png": "[encoded data removed]",
      "text/plain": [
       "<Figure size 640x480 with 1 Axes>"
      ]
     },
     "metadata": {},
     "output_type": "display_data"
    }
   ],
   "source": [
    "rvs = normal_rv.rvs(size=100000)\n",
    "fig, ax = plt.subplots()\n",
    "hist = np.histogram(rvs, bins=np.arange(-3,3,0.5))\n",
    "\n",
    "ax.bar(x=hist[1][:-1], height=hist[0], width=0.3, color=\"b\")\n",
    "ax.set_xlabel(\"x\")\n",
    "ax.set_ylabel(\"Count\")"
   ]
  },
  {
   "cell_type": "markdown",
   "id": "2f604c53-c2ba-47a5-b6a2-6ef6728364bc",
   "metadata": {},
   "source": [
    "### Test if two sets of (independent) random data comes from the same distribution"
   ]
  },
  {
   "cell_type": "code",
   "execution_count": 175,
   "id": "904a3a5a-caee-46c5-b2a1-d39cdc26f600",
   "metadata": {},
   "outputs": [
    {
     "name": "stdout",
     "output_type": "stream",
     "text": [
      "T-statistic: -0.9579\n",
      "P-value: 0.3393\n",
      "Reject the null hypothesis: The two samples likely come from different distributions.\n"
     ]
    }
   ],
   "source": [
    "# Generate two independent samples\n",
    "np.random.seed(42)  # For reproducibility\n",
    "\n",
    "A = np.random.normal(loc=50, scale=10, size=100)  # Mean=50, Std=10\n",
    "B = np.random.normal(loc=0, scale=1, size=100)  # Mean=55, Std=10\n",
    "\n",
    "# Perform independent t-test\n",
    "t, p = stats.ttest_ind(A, B)\n",
    "\n",
    "# Display results\n",
    "print(f\"T-statistic: {t_stat:.4f}\")\n",
    "print(f\"P-value: {p_value:.4f}\")\n",
    "\n",
    "# Interpretation\n",
    "alpha = 0.05  # Significance level\n",
    "if p < alpha:\n",
    "    print(\"Reject the null hypothesis: The two samples likely come from different distributions.\")\n",
    "else:\n",
    "    print(\"Fail to reject the null hypothesis: No strong evidence that the samples come from different distributions.\")"
   ]
  }
 ],
 "metadata": {
  "kernelspec": {
   "display_name": "Python 3 (ipykernel)",
   "language": "python",
   "name": "python3"
  },
  "language_info": {
   "codemirror_mode": {
    "name": "ipython",
    "version": 3
   },
   "file_extension": ".py",
   "mimetype": "text/x-python",
   "name": "python",
   "nbconvert_exporter": "python",
   "pygments_lexer": "ipython3",
   "version": "3.8.10"
  }
 },
 "nbformat": 4,
 "nbformat_minor": 5
}
